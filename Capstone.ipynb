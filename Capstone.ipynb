{
 "cells": [
  {
   "cell_type": "code",
   "execution_count": null,
   "metadata": {},
   "outputs": [],
   "source": [
    "import os\n",
    "import speech_recognition as sr\n",
    "from gtts import gTTS\n",
    "import numpy as np\n",
    "import datetime\n",
    "from pydub import AudioSegment\n",
    "from pydub.playback import play\n",
    "\n",
    "\n"
   ]
  },
  {
   "cell_type": "code",
   "execution_count": null,
   "metadata": {},
   "outputs": [],
   "source": [
    "class ChatBot():\n",
    "    def __init__(self, name):\n",
    "        print(\"----- starting up\", name, \"-----\")\n",
    "        self.name = name\n",
    "        self.text = \"\"\n",
    "\n",
    "    def speech_to_text(self):\n",
    "        recognizer = sr.Recognizer()\n",
    "        with sr.Microphone() as mic:\n",
    "            print(\"listening...\")\n",
    "            audio = recognizer.listen(mic)\n",
    "        try:\n",
    "            self.text = recognizer.recognize_google(audio)\n",
    "            print(\"me --> \", self.text)\n",
    "        except sr.UnknownValueError:\n",
    "            print(\"me -->  ERROR\")\n",
    "\n",
    "    def wake_up(self, text):\n",
    "        return True if self.name.lower() in text.lower() else False\n",
    "\n",
    "    @staticmethod\n",
    "    \n",
    "\n",
    "def text_to_speech(text):\n",
    "        print(\"AI --> \", text)\n",
    "        tts = gTTS(text=text, lang=\"en\", slow=False)\n",
    "        tts.save(\"res.mp3\")\n",
    "        sound = AudioSegment.from_mp3(\"res.mp3\")\n",
    "        play(sound)\n",
    "        os.remove(\"res.mp3\")\n",
    "\n",
    "    @staticmethod\n",
    "    def action_time():\n",
    "        return datetime.datetime.now().time().strftime('%H:%M')\n",
    "\n",
    "# Run the AI\n",
    "if __name__ == \"__main__\":\n",
    "    ai = ChatBot(name=\"Dev\")\n",
    "    while True:\n",
    "        ai.speech_to_text()\n",
    "        # waking up\n",
    "        if ai.wake_up(ai.text):\n",
    "            res = \"Hello, I am Dev the AI. What can I do for you?\"\n",
    "        # do any action\n",
    "        elif \"time\" in ai.text:\n",
    "            res = ai.action_time()\n",
    "        # respond politely\n",
    "        elif any(i in ai.text for i in [\"thank\", \"thanks\"]):\n",
    "            res = np.random.choice(\n",
    "                [\"you're welcome!\", \"anytime!\",\n",
    "                 \"no problem!\", \"cool!\",\n",
    "                 \"I'm here if you need me!\", \"peace out!\"])\n",
    "        ai.text_to_speech(res)"
   ]
  }
 ],
 "metadata": {
  "kernelspec": {
   "display_name": "chatbot",
   "language": "python",
   "name": "python3"
  },
  "language_info": {
   "name": "python",
   "version": "3.7.9"
  }
 },
 "nbformat": 4,
 "nbformat_minor": 2
}
